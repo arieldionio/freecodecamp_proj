{
 "cells": [
  {
   "cell_type": "code",
   "execution_count": 3,
   "id": "014d71bd-406b-450c-8b9f-3448963b9348",
   "metadata": {},
   "outputs": [],
   "source": [
    "import pandas as pd"
   ]
  },
  {
   "cell_type": "code",
   "execution_count": 4,
   "id": "d30f1307-fd58-4609-b204-7907eccb922c",
   "metadata": {},
   "outputs": [],
   "source": [
    "def calculate_demographic_data(print_data=True):\n",
    "    # Read data from file\n",
    "    df = pd.read_csv(r'C:\\Users\\Ariel\\Desktop\\Practice\\Python\\adult.data.csv')\n",
    "\n",
    "    # How many of each race are represented in this dataset? This should be a Pandas series with race names as the index labels.\n",
    "    average_age_men = df.groupby('sex')['age'].mean()[1].round(1)\n",
    "\n",
    "    # What is the average age of men?\n",
    "    race_count = df.groupby('race')['race'].count()\n",
    "\n",
    "    # What is the percentage of people who have a Bachelor's degree?\n",
    "    percentage_bachelors = 100 * (df[df['education'] == 'Bachelors'].count()/32561)[0].round(3)\n",
    "\n",
    "    # What percentage of people with advanced education (`Bachelors`, `Masters`, or `Doctorate`) make more than 50K?\n",
    "    # What percentage of people without advanced education make more than 50K?\n",
    "\n",
    "    # with and without `Bachelors`, `Masters`, or `Doctorate`\n",
    "    higher_education = (df['education'] == 'Bachelors') | (df['education'] == 'Masters') | (df['education'] == 'Doctorate')\n",
    "    lower_education = (df['education'] != 'Bachelors') & (df['education'] != 'Masters') & (df['education'] != 'Doctorate')\n",
    "\n",
    "    # percentage with salary >50K\n",
    "    higher_education_rich = (100 * df[higher_education & (df['salary'] == '>50K')].count()[0]/df[higher_education].count()[0]).round(1)\n",
    "    lower_education_rich = (100 * df[lower_education & (df['salary'] == '>50K')].count()[0]/df[lower_education].count()[0]).round(1)\n",
    "\n",
    "    # What is the minimum number of hours a person works per week (hours-per-week feature)?\n",
    "    min_work_hours = df['hours-per-week'].min()\n",
    "\n",
    "    # What percentage of the people who work the minimum number of hours per week have a salary of >50K?\n",
    "    num_min_workers = df[df['hours-per-week'] == min_work_hours].count()[0]\n",
    "\n",
    "    rich_percentage = (100 * df[(df['hours-per-week'] == min_work_hours) & (df['salary'] == '>50K')].count()[0]/num_min_workers).round(1)\n",
    "\n",
    "    # What country has the highest percentage of people that earn >50K?\n",
    "\n",
    "    country_l = list(df['native-country'].unique())\n",
    "    p = []\n",
    "    for country in country_l:\n",
    "        perc = (100 * df[(df['native-country'] == country) & (df['salary'] == '>50K')].count()[0]/df[df['native-country'] == country].count()[0]).round(1)\n",
    "        p.append(perc)\n",
    "    print(p)\n",
    "\n",
    "    country_perc_dict = dict(zip(country_l, p))\n",
    "\n",
    "    highest_earning_country = max(country_perc_dict, key=country_perc_dict.get)\n",
    "    highest_earning_country_percentage = max(country_perc_dict.values())\n",
    "\n",
    "\n",
    "    # Identify the most popular occupation for those who earn >50K in India.\n",
    "    top_IN_occupation = df[(df['salary'] == '>50K') & (df['native-country'] == 'India')].groupby('occupation')['occupation'].count().sort_values(ascending=False).index[0]\n",
    "\n",
    "    # DO NOT MODIFY BELOW THIS LINE\n",
    "\n",
    "    if print_data:\n",
    "        print(\"Number of each race:\\n\", race_count) \n",
    "        print(\"Average age of men:\", average_age_men)\n",
    "        print(f\"Percentage with Bachelors degrees: {percentage_bachelors}%\")\n",
    "        print(f\"Percentage with higher education that earn >50K: {higher_education_rich}%\")\n",
    "        print(f\"Percentage without higher education that earn >50K: {lower_education_rich}%\")\n",
    "        print(f\"Min work time: {min_work_hours} hours/week\")\n",
    "        print(f\"Percentage of rich among those who work fewest hours: {rich_percentage}%\")\n",
    "        print(\"Country with highest percentage of rich:\", highest_earning_country)\n",
    "        print(f\"Highest percentage of rich people in country: {highest_earning_country_percentage}%\")\n",
    "        print(\"Top occupations in India:\", top_IN_occupation)\n",
    "\n",
    "    return {\n",
    "        'race_count': race_count,\n",
    "        'average_age_men': average_age_men,\n",
    "        'percentage_bachelors': percentage_bachelors,\n",
    "        'higher_education_rich': higher_education_rich,\n",
    "        'lower_education_rich': lower_education_rich,\n",
    "        'min_work_hours': min_work_hours,\n",
    "        'rich_percentage': rich_percentage,\n",
    "        'highest_earning_country': highest_earning_country,\n",
    "        'highest_earning_country_percentage':\n",
    "        highest_earning_country_percentage,\n",
    "        'top_IN_occupation': top_IN_occupation\n",
    "    };\n"
   ]
  },
  {
   "cell_type": "code",
   "execution_count": 5,
   "id": "e605a87c-7607-4627-9b40-95468b23f868",
   "metadata": {},
   "outputs": [
    {
     "name": "stdout",
     "output_type": "stream",
     "text": [
      "[24.6, 26.3, 12.3, 40.0, 25.0, 5.1, 20.0, 10.5, 7.7, 33.3, 32.2, 32.1, 41.9, 30.8, 34.2, 20.0, 3.4, 36.8, 16.7, 14.3, 11.1, 39.2, 9.1, 10.8, 2.9, 8.5, 41.4, 4.7, 26.7, 38.7, 37.5, 6.5, 0.0, 25.0, 10.5, 27.6, 5.9, 7.5, 30.0, 20.8, 23.1, 0.0]\n",
      "Number of each race:\n",
      " race\n",
      "Amer-Indian-Eskimo      311\n",
      "Asian-Pac-Islander     1039\n",
      "Black                  3124\n",
      "Other                   271\n",
      "White                 27816\n",
      "Name: race, dtype: int64\n",
      "Average age of men: 39.4\n",
      "Percentage with Bachelors degrees: 16.400000000000002%\n",
      "Percentage with higher education that earn >50K: 46.5%\n",
      "Percentage without higher education that earn >50K: 17.4%\n",
      "Min work time: 1 hours/week\n",
      "Percentage of rich among those who work fewest hours: 10.0%\n",
      "Country with highest percentage of rich: Iran\n",
      "Highest percentage of rich people in country: 41.9%\n",
      "Top occupations in India: Prof-specialty\n"
     ]
    },
    {
     "data": {
      "text/plain": [
       "{'race_count': race\n",
       " Amer-Indian-Eskimo      311\n",
       " Asian-Pac-Islander     1039\n",
       " Black                  3124\n",
       " Other                   271\n",
       " White                 27816\n",
       " Name: race, dtype: int64,\n",
       " 'average_age_men': 39.4,\n",
       " 'percentage_bachelors': 16.400000000000002,\n",
       " 'higher_education_rich': 46.5,\n",
       " 'lower_education_rich': 17.4,\n",
       " 'min_work_hours': 1,\n",
       " 'rich_percentage': 10.0,\n",
       " 'highest_earning_country': 'Iran',\n",
       " 'highest_earning_country_percentage': 41.9,\n",
       " 'top_IN_occupation': 'Prof-specialty'}"
      ]
     },
     "execution_count": 5,
     "metadata": {},
     "output_type": "execute_result"
    }
   ],
   "source": [
    "calculate_demographic_data()"
   ]
  },
  {
   "cell_type": "code",
   "execution_count": null,
   "id": "839f5978-432b-48e6-9ebf-04e6a30de6df",
   "metadata": {},
   "outputs": [],
   "source": []
  }
 ],
 "metadata": {
  "kernelspec": {
   "display_name": "Python 3 (ipykernel)",
   "language": "python",
   "name": "python3"
  },
  "language_info": {
   "codemirror_mode": {
    "name": "ipython",
    "version": 3
   },
   "file_extension": ".py",
   "mimetype": "text/x-python",
   "name": "python",
   "nbconvert_exporter": "python",
   "pygments_lexer": "ipython3",
   "version": "3.8.18"
  }
 },
 "nbformat": 4,
 "nbformat_minor": 5
}
